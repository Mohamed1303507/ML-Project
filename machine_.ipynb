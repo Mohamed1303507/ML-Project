{
  "cells": [
    {
      "cell_type": "code",
      "execution_count": 1,
      "id": "f9d99bae-e11e-425d-b587-0c0441bcbf37",
      "metadata": {
        "id": "f9d99bae-e11e-425d-b587-0c0441bcbf37"
      },
      "outputs": [],
      "source": [
        "import numpy as np\n",
        "import pandas as pd\n",
        "import matplotlib.pyplot as plt\n",
        "%matplotlib inline\n",
        "import seaborn as sns\n",
        "from sklearn.naive_bayes import GaussianNB\n",
        "from sklearn import metrics"
      ]
    },
    {
      "cell_type": "code",
      "execution_count": 2,
      "id": "98670a58-581d-4801-a0fb-0e5e234a8355",
      "metadata": {
        "colab": {
          "base_uri": "https://localhost:8080/",
          "height": 345
        },
        "id": "98670a58-581d-4801-a0fb-0e5e234a8355",
        "outputId": "b066cbd4-958f-463b-9e86-70deb9c56814"
      },
      "outputs": [
        {
          "output_type": "error",
          "ename": "FileNotFoundError",
          "evalue": "ignored",
          "traceback": [
            "\u001b[0;31m---------------------------------------------------------------------------\u001b[0m",
            "\u001b[0;31mFileNotFoundError\u001b[0m                         Traceback (most recent call last)",
            "\u001b[0;32m<ipython-input-2-765b284abf42>\u001b[0m in \u001b[0;36m<cell line: 2>\u001b[0;34m()\u001b[0m\n\u001b[1;32m      1\u001b[0m \u001b[0;31m# reading from csv file\u001b[0m\u001b[0;34m\u001b[0m\u001b[0;34m\u001b[0m\u001b[0m\n\u001b[0;32m----> 2\u001b[0;31m \u001b[0mdata\u001b[0m \u001b[0;34m=\u001b[0m \u001b[0mpd\u001b[0m\u001b[0;34m.\u001b[0m\u001b[0mread_csv\u001b[0m\u001b[0;34m(\u001b[0m\u001b[0;34m'heart.csv'\u001b[0m\u001b[0;34m)\u001b[0m\u001b[0;34m\u001b[0m\u001b[0;34m\u001b[0m\u001b[0m\n\u001b[0m\u001b[1;32m      3\u001b[0m \u001b[0mdata\u001b[0m\u001b[0;34m.\u001b[0m\u001b[0mhead\u001b[0m\u001b[0;34m(\u001b[0m\u001b[0;34m)\u001b[0m\u001b[0;34m\u001b[0m\u001b[0;34m\u001b[0m\u001b[0m\n",
            "\u001b[0;32m/usr/local/lib/python3.10/dist-packages/pandas/util/_decorators.py\u001b[0m in \u001b[0;36mwrapper\u001b[0;34m(*args, **kwargs)\u001b[0m\n\u001b[1;32m    209\u001b[0m                 \u001b[0;32melse\u001b[0m\u001b[0;34m:\u001b[0m\u001b[0;34m\u001b[0m\u001b[0;34m\u001b[0m\u001b[0m\n\u001b[1;32m    210\u001b[0m                     \u001b[0mkwargs\u001b[0m\u001b[0;34m[\u001b[0m\u001b[0mnew_arg_name\u001b[0m\u001b[0;34m]\u001b[0m \u001b[0;34m=\u001b[0m \u001b[0mnew_arg_value\u001b[0m\u001b[0;34m\u001b[0m\u001b[0;34m\u001b[0m\u001b[0m\n\u001b[0;32m--> 211\u001b[0;31m             \u001b[0;32mreturn\u001b[0m \u001b[0mfunc\u001b[0m\u001b[0;34m(\u001b[0m\u001b[0;34m*\u001b[0m\u001b[0margs\u001b[0m\u001b[0;34m,\u001b[0m \u001b[0;34m**\u001b[0m\u001b[0mkwargs\u001b[0m\u001b[0;34m)\u001b[0m\u001b[0;34m\u001b[0m\u001b[0;34m\u001b[0m\u001b[0m\n\u001b[0m\u001b[1;32m    212\u001b[0m \u001b[0;34m\u001b[0m\u001b[0m\n\u001b[1;32m    213\u001b[0m         \u001b[0;32mreturn\u001b[0m \u001b[0mcast\u001b[0m\u001b[0;34m(\u001b[0m\u001b[0mF\u001b[0m\u001b[0;34m,\u001b[0m \u001b[0mwrapper\u001b[0m\u001b[0;34m)\u001b[0m\u001b[0;34m\u001b[0m\u001b[0;34m\u001b[0m\u001b[0m\n",
            "\u001b[0;32m/usr/local/lib/python3.10/dist-packages/pandas/util/_decorators.py\u001b[0m in \u001b[0;36mwrapper\u001b[0;34m(*args, **kwargs)\u001b[0m\n\u001b[1;32m    329\u001b[0m                     \u001b[0mstacklevel\u001b[0m\u001b[0;34m=\u001b[0m\u001b[0mfind_stack_level\u001b[0m\u001b[0;34m(\u001b[0m\u001b[0;34m)\u001b[0m\u001b[0;34m,\u001b[0m\u001b[0;34m\u001b[0m\u001b[0;34m\u001b[0m\u001b[0m\n\u001b[1;32m    330\u001b[0m                 )\n\u001b[0;32m--> 331\u001b[0;31m             \u001b[0;32mreturn\u001b[0m \u001b[0mfunc\u001b[0m\u001b[0;34m(\u001b[0m\u001b[0;34m*\u001b[0m\u001b[0margs\u001b[0m\u001b[0;34m,\u001b[0m \u001b[0;34m**\u001b[0m\u001b[0mkwargs\u001b[0m\u001b[0;34m)\u001b[0m\u001b[0;34m\u001b[0m\u001b[0;34m\u001b[0m\u001b[0m\n\u001b[0m\u001b[1;32m    332\u001b[0m \u001b[0;34m\u001b[0m\u001b[0m\n\u001b[1;32m    333\u001b[0m         \u001b[0;31m# error: \"Callable[[VarArg(Any), KwArg(Any)], Any]\" has no\u001b[0m\u001b[0;34m\u001b[0m\u001b[0;34m\u001b[0m\u001b[0m\n",
            "\u001b[0;32m/usr/local/lib/python3.10/dist-packages/pandas/io/parsers/readers.py\u001b[0m in \u001b[0;36mread_csv\u001b[0;34m(filepath_or_buffer, sep, delimiter, header, names, index_col, usecols, squeeze, prefix, mangle_dupe_cols, dtype, engine, converters, true_values, false_values, skipinitialspace, skiprows, skipfooter, nrows, na_values, keep_default_na, na_filter, verbose, skip_blank_lines, parse_dates, infer_datetime_format, keep_date_col, date_parser, dayfirst, cache_dates, iterator, chunksize, compression, thousands, decimal, lineterminator, quotechar, quoting, doublequote, escapechar, comment, encoding, encoding_errors, dialect, error_bad_lines, warn_bad_lines, on_bad_lines, delim_whitespace, low_memory, memory_map, float_precision, storage_options)\u001b[0m\n\u001b[1;32m    948\u001b[0m     \u001b[0mkwds\u001b[0m\u001b[0;34m.\u001b[0m\u001b[0mupdate\u001b[0m\u001b[0;34m(\u001b[0m\u001b[0mkwds_defaults\u001b[0m\u001b[0;34m)\u001b[0m\u001b[0;34m\u001b[0m\u001b[0;34m\u001b[0m\u001b[0m\n\u001b[1;32m    949\u001b[0m \u001b[0;34m\u001b[0m\u001b[0m\n\u001b[0;32m--> 950\u001b[0;31m     \u001b[0;32mreturn\u001b[0m \u001b[0m_read\u001b[0m\u001b[0;34m(\u001b[0m\u001b[0mfilepath_or_buffer\u001b[0m\u001b[0;34m,\u001b[0m \u001b[0mkwds\u001b[0m\u001b[0;34m)\u001b[0m\u001b[0;34m\u001b[0m\u001b[0;34m\u001b[0m\u001b[0m\n\u001b[0m\u001b[1;32m    951\u001b[0m \u001b[0;34m\u001b[0m\u001b[0m\n\u001b[1;32m    952\u001b[0m \u001b[0;34m\u001b[0m\u001b[0m\n",
            "\u001b[0;32m/usr/local/lib/python3.10/dist-packages/pandas/io/parsers/readers.py\u001b[0m in \u001b[0;36m_read\u001b[0;34m(filepath_or_buffer, kwds)\u001b[0m\n\u001b[1;32m    603\u001b[0m \u001b[0;34m\u001b[0m\u001b[0m\n\u001b[1;32m    604\u001b[0m     \u001b[0;31m# Create the parser.\u001b[0m\u001b[0;34m\u001b[0m\u001b[0;34m\u001b[0m\u001b[0m\n\u001b[0;32m--> 605\u001b[0;31m     \u001b[0mparser\u001b[0m \u001b[0;34m=\u001b[0m \u001b[0mTextFileReader\u001b[0m\u001b[0;34m(\u001b[0m\u001b[0mfilepath_or_buffer\u001b[0m\u001b[0;34m,\u001b[0m \u001b[0;34m**\u001b[0m\u001b[0mkwds\u001b[0m\u001b[0;34m)\u001b[0m\u001b[0;34m\u001b[0m\u001b[0;34m\u001b[0m\u001b[0m\n\u001b[0m\u001b[1;32m    606\u001b[0m \u001b[0;34m\u001b[0m\u001b[0m\n\u001b[1;32m    607\u001b[0m     \u001b[0;32mif\u001b[0m \u001b[0mchunksize\u001b[0m \u001b[0;32mor\u001b[0m \u001b[0miterator\u001b[0m\u001b[0;34m:\u001b[0m\u001b[0;34m\u001b[0m\u001b[0;34m\u001b[0m\u001b[0m\n",
            "\u001b[0;32m/usr/local/lib/python3.10/dist-packages/pandas/io/parsers/readers.py\u001b[0m in \u001b[0;36m__init__\u001b[0;34m(self, f, engine, **kwds)\u001b[0m\n\u001b[1;32m   1440\u001b[0m \u001b[0;34m\u001b[0m\u001b[0m\n\u001b[1;32m   1441\u001b[0m         \u001b[0mself\u001b[0m\u001b[0;34m.\u001b[0m\u001b[0mhandles\u001b[0m\u001b[0;34m:\u001b[0m \u001b[0mIOHandles\u001b[0m \u001b[0;34m|\u001b[0m \u001b[0;32mNone\u001b[0m \u001b[0;34m=\u001b[0m \u001b[0;32mNone\u001b[0m\u001b[0;34m\u001b[0m\u001b[0;34m\u001b[0m\u001b[0m\n\u001b[0;32m-> 1442\u001b[0;31m         \u001b[0mself\u001b[0m\u001b[0;34m.\u001b[0m\u001b[0m_engine\u001b[0m \u001b[0;34m=\u001b[0m \u001b[0mself\u001b[0m\u001b[0;34m.\u001b[0m\u001b[0m_make_engine\u001b[0m\u001b[0;34m(\u001b[0m\u001b[0mf\u001b[0m\u001b[0;34m,\u001b[0m \u001b[0mself\u001b[0m\u001b[0;34m.\u001b[0m\u001b[0mengine\u001b[0m\u001b[0;34m)\u001b[0m\u001b[0;34m\u001b[0m\u001b[0;34m\u001b[0m\u001b[0m\n\u001b[0m\u001b[1;32m   1443\u001b[0m \u001b[0;34m\u001b[0m\u001b[0m\n\u001b[1;32m   1444\u001b[0m     \u001b[0;32mdef\u001b[0m \u001b[0mclose\u001b[0m\u001b[0;34m(\u001b[0m\u001b[0mself\u001b[0m\u001b[0;34m)\u001b[0m \u001b[0;34m->\u001b[0m \u001b[0;32mNone\u001b[0m\u001b[0;34m:\u001b[0m\u001b[0;34m\u001b[0m\u001b[0;34m\u001b[0m\u001b[0m\n",
            "\u001b[0;32m/usr/local/lib/python3.10/dist-packages/pandas/io/parsers/readers.py\u001b[0m in \u001b[0;36m_make_engine\u001b[0;34m(self, f, engine)\u001b[0m\n\u001b[1;32m   1733\u001b[0m                 \u001b[0;32mif\u001b[0m \u001b[0;34m\"b\"\u001b[0m \u001b[0;32mnot\u001b[0m \u001b[0;32min\u001b[0m \u001b[0mmode\u001b[0m\u001b[0;34m:\u001b[0m\u001b[0;34m\u001b[0m\u001b[0;34m\u001b[0m\u001b[0m\n\u001b[1;32m   1734\u001b[0m                     \u001b[0mmode\u001b[0m \u001b[0;34m+=\u001b[0m \u001b[0;34m\"b\"\u001b[0m\u001b[0;34m\u001b[0m\u001b[0;34m\u001b[0m\u001b[0m\n\u001b[0;32m-> 1735\u001b[0;31m             self.handles = get_handle(\n\u001b[0m\u001b[1;32m   1736\u001b[0m                 \u001b[0mf\u001b[0m\u001b[0;34m,\u001b[0m\u001b[0;34m\u001b[0m\u001b[0;34m\u001b[0m\u001b[0m\n\u001b[1;32m   1737\u001b[0m                 \u001b[0mmode\u001b[0m\u001b[0;34m,\u001b[0m\u001b[0;34m\u001b[0m\u001b[0;34m\u001b[0m\u001b[0m\n",
            "\u001b[0;32m/usr/local/lib/python3.10/dist-packages/pandas/io/common.py\u001b[0m in \u001b[0;36mget_handle\u001b[0;34m(path_or_buf, mode, encoding, compression, memory_map, is_text, errors, storage_options)\u001b[0m\n\u001b[1;32m    854\u001b[0m         \u001b[0;32mif\u001b[0m \u001b[0mioargs\u001b[0m\u001b[0;34m.\u001b[0m\u001b[0mencoding\u001b[0m \u001b[0;32mand\u001b[0m \u001b[0;34m\"b\"\u001b[0m \u001b[0;32mnot\u001b[0m \u001b[0;32min\u001b[0m \u001b[0mioargs\u001b[0m\u001b[0;34m.\u001b[0m\u001b[0mmode\u001b[0m\u001b[0;34m:\u001b[0m\u001b[0;34m\u001b[0m\u001b[0;34m\u001b[0m\u001b[0m\n\u001b[1;32m    855\u001b[0m             \u001b[0;31m# Encoding\u001b[0m\u001b[0;34m\u001b[0m\u001b[0;34m\u001b[0m\u001b[0m\n\u001b[0;32m--> 856\u001b[0;31m             handle = open(\n\u001b[0m\u001b[1;32m    857\u001b[0m                 \u001b[0mhandle\u001b[0m\u001b[0;34m,\u001b[0m\u001b[0;34m\u001b[0m\u001b[0;34m\u001b[0m\u001b[0m\n\u001b[1;32m    858\u001b[0m                 \u001b[0mioargs\u001b[0m\u001b[0;34m.\u001b[0m\u001b[0mmode\u001b[0m\u001b[0;34m,\u001b[0m\u001b[0;34m\u001b[0m\u001b[0;34m\u001b[0m\u001b[0m\n",
            "\u001b[0;31mFileNotFoundError\u001b[0m: [Errno 2] No such file or directory: 'heart.csv'"
          ]
        }
      ],
      "source": [
        "# reading from csv file\n",
        "data = pd.read_csv('heart.csv')\n",
        "data.head()"
      ]
    },
    {
      "cell_type": "markdown",
      "id": "57556f51-a5b1-4922-9296-28fc00a98879",
      "metadata": {
        "tags": [],
        "id": "57556f51-a5b1-4922-9296-28fc00a98879"
      },
      "source": [
        "### Attribute Information:\n",
        "## 1-age\n",
        "## 2-sex\n",
        "## 3-chest pain type (4 values)\n",
        "## 4-resting blood pressure\n",
        "## 5-serum cholestoral in mg/dl\n",
        "## 6-fasting blood sugar > 120 mg/dl\n",
        "## 7-resting electrocardiographic results (values 0,1,2)\n",
        "## 8-maximum heart rate achieved\n",
        "## 9-exercise induced angina\n",
        "## 10-oldpeak = ST depression induced by exercise relative to rest\n",
        "## 11-the slope of the peak exercise ST segment\n",
        "## 12-number of major vessels (0-3) colored by flourosopy\n",
        "## 13-thal: 0 = normal; 1 = fixed defect; 2 = reversable defect`\n",
        "\n",
        "The names and social security numbers of the patients were recently removed from the database, replaced with dummy values."
      ]
    },
    {
      "cell_type": "code",
      "execution_count": null,
      "id": "324f311b-b551-4e5f-a545-1dc88271d442",
      "metadata": {
        "id": "324f311b-b551-4e5f-a545-1dc88271d442"
      },
      "outputs": [],
      "source": [
        "data.dtypes"
      ]
    },
    {
      "cell_type": "markdown",
      "id": "38b30382-c4ea-41ac-a690-219bf926f03b",
      "metadata": {
        "id": "38b30382-c4ea-41ac-a690-219bf926f03b"
      },
      "source": [
        "## Check some info about the Dataset to (see nulls and DataTypes)"
      ]
    },
    {
      "cell_type": "code",
      "execution_count": null,
      "id": "66281b26-97f8-427f-96f8-f3b23ef3eac1",
      "metadata": {
        "id": "66281b26-97f8-427f-96f8-f3b23ef3eac1"
      },
      "outputs": [],
      "source": [
        "data.info()"
      ]
    },
    {
      "cell_type": "markdown",
      "id": "ebff55f6-4042-48fc-9398-66834335b3a3",
      "metadata": {
        "id": "ebff55f6-4042-48fc-9398-66834335b3a3"
      },
      "source": [
        "# Checking for missing values"
      ]
    },
    {
      "cell_type": "code",
      "execution_count": null,
      "id": "aeaea5e6-cbd2-4dcd-a8ed-c7fe9ace663c",
      "metadata": {
        "id": "aeaea5e6-cbd2-4dcd-a8ed-c7fe9ace663c"
      },
      "outputs": [],
      "source": [
        "data.isnull().sum()"
      ]
    },
    {
      "cell_type": "code",
      "execution_count": null,
      "id": "031614d9-d052-4d2e-9b31-7da72c1d8880",
      "metadata": {
        "id": "031614d9-d052-4d2e-9b31-7da72c1d8880"
      },
      "outputs": [],
      "source": [
        "data[\"target\"].value_counts()"
      ]
    },
    {
      "cell_type": "markdown",
      "id": "62c08044-b1a1-4e5d-8eec-86449c1fdaf9",
      "metadata": {
        "id": "62c08044-b1a1-4e5d-8eec-86449c1fdaf9"
      },
      "source": [
        "# Checking for imbalanced data"
      ]
    },
    {
      "cell_type": "code",
      "execution_count": null,
      "id": "9e26adc4-6563-4fdd-8d4b-26d0a584e295",
      "metadata": {
        "id": "9e26adc4-6563-4fdd-8d4b-26d0a584e295"
      },
      "outputs": [],
      "source": [
        "y_train.value_counts()"
      ]
    },
    {
      "cell_type": "code",
      "execution_count": null,
      "id": "cab6d0d9-ed1b-48ca-ac8a-0551f13f3e6a",
      "metadata": {
        "id": "cab6d0d9-ed1b-48ca-ac8a-0551f13f3e6a"
      },
      "outputs": [],
      "source": [
        "y_train.value_counts().plot.bar()"
      ]
    },
    {
      "cell_type": "code",
      "execution_count": null,
      "id": "98a19dbf-12c3-4a8a-bb24-03efe3b8e296",
      "metadata": {
        "id": "98a19dbf-12c3-4a8a-bb24-03efe3b8e296"
      },
      "outputs": [],
      "source": [
        "from imblearn.over_sampling import RandomOverSampler\n",
        "\n",
        "ros = RandomOverSampler(sampling_strategy=1.0, random_state=0)\n",
        "X_train_balanced, y_train_balaned = ros.fit_resample(X_train, y_train)\n",
        "y_train_balaned.value_counts()"
      ]
    },
    {
      "cell_type": "markdown",
      "id": "59d7ab50-ddf3-4c3d-b018-e15103671f68",
      "metadata": {
        "id": "59d7ab50-ddf3-4c3d-b018-e15103671f68"
      },
      "source": [
        "## Show some statistics about the Dataset"
      ]
    },
    {
      "cell_type": "code",
      "execution_count": null,
      "id": "1a75bc5a-7e83-42ae-9d1b-27aa1d2f893e",
      "metadata": {
        "id": "1a75bc5a-7e83-42ae-9d1b-27aa1d2f893e"
      },
      "outputs": [],
      "source": [
        "data.describe()"
      ]
    },
    {
      "cell_type": "markdown",
      "id": "967d79d6-ce68-43ef-9fcd-9d4ca8110d40",
      "metadata": {
        "id": "967d79d6-ce68-43ef-9fcd-9d4ca8110d40"
      },
      "source": [
        "## Feature_Importances"
      ]
    },
    {
      "cell_type": "code",
      "execution_count": null,
      "id": "9a9e3e92-341d-4302-9309-9596cfd0f597",
      "metadata": {
        "id": "9a9e3e92-341d-4302-9309-9596cfd0f597"
      },
      "outputs": [],
      "source": [
        "features = data.columns\n",
        "importances = clf.feature_importances_\n",
        "indices = np.argsort(importances)\n",
        "\n",
        "plt.title('Feature Importances')\n",
        "plt.barh(range(len(indices)),importances[indices],color='b')\n",
        "plt.yticks(range(len(indices)), [features[i] for i in indices])\n",
        "plt.xlabel('Relative importance')\n",
        "plt.show()"
      ]
    },
    {
      "cell_type": "markdown",
      "id": "1b27b130-81d4-4b08-a5e3-a2987c4c3ab8",
      "metadata": {
        "jp-MarkdownHeadingCollapsed": true,
        "tags": [],
        "id": "1b27b130-81d4-4b08-a5e3-a2987c4c3ab8"
      },
      "source": [
        "### `Exploratory Data Analysis` (EDA)"
      ]
    },
    {
      "cell_type": "markdown",
      "id": "d81f9e19-3b9a-4aee-8e81-5a056f15369b",
      "metadata": {
        "tags": [],
        "id": "d81f9e19-3b9a-4aee-8e81-5a056f15369b"
      },
      "source": [
        "### `Univariate Visualization`"
      ]
    },
    {
      "cell_type": "markdown",
      "id": "64d42ea9-8767-439a-b9f1-53b90af11e9e",
      "metadata": {
        "id": "64d42ea9-8767-439a-b9f1-53b90af11e9e"
      },
      "source": [
        "### Check the Distribution of (exercise induced angina) Feature in Dataset"
      ]
    },
    {
      "cell_type": "code",
      "execution_count": null,
      "id": "f737c963-8a4b-40e2-8027-5efec453bb27",
      "metadata": {
        "id": "f737c963-8a4b-40e2-8027-5efec453bb27"
      },
      "outputs": [],
      "source": [
        "exang_values = data['cp'].value_counts(ascending=False)\n",
        "print('categories of (exang) --- \\n', exang_values)\n",
        "print('**'*40)\n"
      ]
    },
    {
      "cell_type": "markdown",
      "id": "4c5cfb4e-c6c3-4180-ac7b-3c19de90c765",
      "metadata": {
        "id": "4c5cfb4e-c6c3-4180-ac7b-3c19de90c765"
      },
      "source": [
        "## Plotting"
      ]
    },
    {
      "cell_type": "code",
      "execution_count": null,
      "id": "18febb5c-a2c4-404c-aee9-080a07300113",
      "metadata": {
        "id": "18febb5c-a2c4-404c-aee9-080a07300113"
      },
      "outputs": [],
      "source": [
        "plt.figure(figsize=(10,6))\n",
        "sns.countplot(x='cp', data=data, order=exang_values.index)\n",
        "plt.title('CountPlot of \"cp\" Feature in Dataset', fontsize=15, c='k')\n",
        "plt.xlabel('exang', fontsize=20, c='k')\n",
        "plt.ylabel('Counts', fontsize=20, c='k')\n",
        "## To show the percentage of each bar\n",
        "for i in range(len(exang_values)):  ## loop over the numbers of categories (number of bars)\n",
        "    each_count = exang_values.values[i]\n",
        "    each_text = f'{((100*each_count)/ len(data)):.2f}%'\n",
        "    plt.text(x=i, y=each_count+5, s=each_text, c='b', fontsize=15, ha='center')\n"
      ]
    },
    {
      "cell_type": "markdown",
      "id": "c5717acb-568a-4dc9-909b-92e61ab24118",
      "metadata": {
        "id": "c5717acb-568a-4dc9-909b-92e61ab24118"
      },
      "source": [
        "## Scatterplot with important Feature (medina_income) with the target (median_house_value)"
      ]
    },
    {
      "cell_type": "markdown",
      "id": "9a02af8f-4862-469a-a0c2-98cd6216bcae",
      "metadata": {
        "id": "9a02af8f-4862-469a-a0c2-98cd6216bcae"
      },
      "source": [
        "## Histogram Distr. of Numerical Features in Dataset"
      ]
    },
    {
      "cell_type": "code",
      "execution_count": null,
      "id": "f87be682-2e67-4ea3-8fc7-33d2b7486af1",
      "metadata": {
        "id": "f87be682-2e67-4ea3-8fc7-33d2b7486af1"
      },
      "outputs": [],
      "source": [
        "# THIS IS GOING TO BE A VERY LARGE PLOT\n",
        "sns.pairplot(data,hue='target',palette='coolwarm')"
      ]
    },
    {
      "cell_type": "code",
      "execution_count": null,
      "id": "533fb11f-3d0c-41e3-b4d3-568f6ba8c065",
      "metadata": {
        "id": "533fb11f-3d0c-41e3-b4d3-568f6ba8c065"
      },
      "outputs": [],
      "source": [
        "data.hist(bins=30, figsize=(20, 10))\n",
        "plt.show()"
      ]
    },
    {
      "cell_type": "markdown",
      "id": "2fd4489e-3b8e-4f30-b672-21f6afb27b35",
      "metadata": {
        "id": "2fd4489e-3b8e-4f30-b672-21f6afb27b35"
      },
      "source": [
        "## pearson correlation"
      ]
    },
    {
      "cell_type": "code",
      "execution_count": null,
      "id": "99cdb6c7-1ef8-48a9-b887-afb2f02db9c6",
      "metadata": {
        "id": "99cdb6c7-1ef8-48a9-b887-afb2f02db9c6"
      },
      "outputs": [],
      "source": [
        "\n",
        "data.corr()['thal'].sort_values(ascending=False)"
      ]
    },
    {
      "cell_type": "markdown",
      "id": "a4a5489a-3c1e-4389-8e15-4f73808022c6",
      "metadata": {
        "id": "a4a5489a-3c1e-4389-8e15-4f73808022c6"
      },
      "source": [
        "## Show This As Heatmap"
      ]
    },
    {
      "cell_type": "code",
      "execution_count": null,
      "id": "31314e74-fc45-4eaf-a4d6-3075f9f23282",
      "metadata": {
        "id": "31314e74-fc45-4eaf-a4d6-3075f9f23282"
      },
      "outputs": [],
      "source": [
        "plt.figure(figsize=(12, 6))\n",
        "sns.heatmap(data.corr(), annot=True, cmap='Blues', fmt='.2f')  ## symmetric matrix\n",
        "plt.show()"
      ]
    },
    {
      "cell_type": "code",
      "execution_count": null,
      "id": "97d4217e-9878-4a49-9b77-e0a1113c99af",
      "metadata": {
        "id": "97d4217e-9878-4a49-9b77-e0a1113c99af"
      },
      "outputs": [],
      "source": [
        "## using pandas\n",
        "data['cp'].value_counts().plot(kind='pie', figsize=(10, 6));"
      ]
    },
    {
      "cell_type": "markdown",
      "id": "3e4b4263-7367-4000-91df-625578cc011b",
      "metadata": {
        "id": "3e4b4263-7367-4000-91df-625578cc011b"
      },
      "source": [
        "## The Modiling\n",
        "## 1-KNN CLASSIFIER"
      ]
    },
    {
      "cell_type": "markdown",
      "id": "cc562ed1-09eb-4578-84e2-fb8b3185ba54",
      "metadata": {
        "id": "cc562ed1-09eb-4578-84e2-fb8b3185ba54"
      },
      "source": [
        "### `Feature Engineering`\n",
        "``Try to add some features, thinking that it will be more useful and more correlated to the target``"
      ]
    },
    {
      "cell_type": "markdown",
      "id": "f0170290-bf8a-49ac-91da-adab45ab9974",
      "metadata": {
        "id": "f0170290-bf8a-49ac-91da-adab45ab9974"
      },
      "source": [
        "## Standardize the Variables\n",
        "\n",
        "Because the KNN classifier predicts the class of a given test observation by identifying the observations that are nearest to it, the scale of the variables matters. Any variables that are on a large scale will have a much larger effect on the distance between the observations, and hence on the KNN classifier, than variables that are on a small scale."
      ]
    },
    {
      "cell_type": "code",
      "execution_count": null,
      "id": "7d134f90-f298-485a-9dab-0d7132d568bd",
      "metadata": {
        "id": "7d134f90-f298-485a-9dab-0d7132d568bd"
      },
      "outputs": [],
      "source": [
        "from sklearn.preprocessing import StandardScaler"
      ]
    },
    {
      "cell_type": "code",
      "execution_count": null,
      "id": "d2706afc-d534-4d5b-852c-60cf4b991717",
      "metadata": {
        "id": "d2706afc-d534-4d5b-852c-60cf4b991717"
      },
      "outputs": [],
      "source": [
        "scaler = StandardScaler()"
      ]
    },
    {
      "cell_type": "code",
      "execution_count": null,
      "id": "0e036592-6670-4034-9cac-9f0a0f37df44",
      "metadata": {
        "id": "0e036592-6670-4034-9cac-9f0a0f37df44"
      },
      "outputs": [],
      "source": [
        "scaler.fit(data.drop('target',axis=1))"
      ]
    },
    {
      "cell_type": "code",
      "execution_count": null,
      "id": "740d2305-120d-4de9-bd9f-53f7c18cadad",
      "metadata": {
        "id": "740d2305-120d-4de9-bd9f-53f7c18cadad"
      },
      "outputs": [],
      "source": [
        "scaled_features = scaler.transform(data.drop('target',axis=1))"
      ]
    },
    {
      "cell_type": "code",
      "execution_count": null,
      "id": "bde4c13b-9b12-4869-8351-8c300a32fb63",
      "metadata": {
        "id": "bde4c13b-9b12-4869-8351-8c300a32fb63"
      },
      "outputs": [],
      "source": [
        "df_feat = pd.DataFrame(scaled_features,columns=data.columns[:-1])\n",
        "df_feat.head()"
      ]
    },
    {
      "cell_type": "markdown",
      "id": "659b616e-b0e0-4733-b6ee-6b9c839a730d",
      "metadata": {
        "id": "659b616e-b0e0-4733-b6ee-6b9c839a730d"
      },
      "source": [
        "# Splitting dataset into training, validation, and test sets"
      ]
    },
    {
      "cell_type": "code",
      "execution_count": null,
      "id": "cfb8699b-855a-49c0-ba76-93b44600660f",
      "metadata": {
        "id": "cfb8699b-855a-49c0-ba76-93b44600660f"
      },
      "outputs": [],
      "source": [
        "from sklearn.model_selection import train_test_split\n",
        "\n",
        "\n",
        "X, X_test, y, y_test=train_test_split(scaled_features,data['target'],test_size=0.30)\n",
        "#X, X_test, y, y_test = train_test_split(data_input, data_output, test_size=0.30, random_state=0)\n",
        "\n",
        "X_train, X_val, y_train, y_val = train_test_split(X, y, test_size=0.30, random_state=0)\n",
        "\n",
        "print('X_train.shape =', X_train.shape)\n",
        "print('y_train.shape =', y_train.shape)\n",
        "print('-------------------------------')\n",
        "print('X_val =', X_val.shape)\n",
        "print('y_val.shape =', y_val.shape)\n",
        "print('-------------------------------')\n",
        "print('X_test =', X_test.shape)\n",
        "print('y_test.shape =', y_test.shape)"
      ]
    },
    {
      "cell_type": "markdown",
      "id": "2c172bca-af8e-47ad-9aa7-56da7aece4c0",
      "metadata": {
        "id": "2c172bca-af8e-47ad-9aa7-56da7aece4c0"
      },
      "source": [
        "# KNN Training and Validation"
      ]
    },
    {
      "cell_type": "code",
      "execution_count": null,
      "id": "2b57975b-4a7d-46ae-8248-f9dac0035be2",
      "metadata": {
        "id": "2b57975b-4a7d-46ae-8248-f9dac0035be2"
      },
      "outputs": [],
      "source": [
        "from sklearn.neighbors import KNeighborsClassifier\n",
        "\n",
        "model = KNeighborsClassifier(n_neighbors = 100)\n",
        "model.fit(X_train, y_train)\n",
        "y_pred_train = model.predict(X_train)\n",
        "y_pred_val = model.predict(X_val)"
      ]
    },
    {
      "cell_type": "code",
      "execution_count": null,
      "id": "aea2acb1-cf56-4bcf-8641-0f7dd3ab934e",
      "metadata": {
        "id": "aea2acb1-cf56-4bcf-8641-0f7dd3ab934e"
      },
      "outputs": [],
      "source": [
        "from sklearn.metrics import accuracy_score\n",
        "\n",
        "accuracy_train = accuracy_score(y_train, y_pred_train)\n",
        "accuracy_val = accuracy_score(y_val, y_pred_val)\n",
        "\n",
        "print('accuracy_train =', accuracy_train)\n",
        "print('accuracy_val =', accuracy_val)"
      ]
    },
    {
      "cell_type": "code",
      "execution_count": null,
      "id": "b202e8af-64d4-4d91-8e9c-0f8e3318b91d",
      "metadata": {
        "id": "b202e8af-64d4-4d91-8e9c-0f8e3318b91d"
      },
      "outputs": [],
      "source": []
    },
    {
      "cell_type": "code",
      "execution_count": null,
      "id": "dd84862f-fe9c-4d80-9798-b9177e650788",
      "metadata": {
        "id": "dd84862f-fe9c-4d80-9798-b9177e650788"
      },
      "outputs": [],
      "source": [
        "best_model = KNeighborsClassifier(n_neighbors=10, weights='uniform')\n",
        "best_model.fit(X_train, y_train)\n",
        "y_pred_test = best_model.predict(X_test)\n",
        "accuracy_test = accuracy_score(y_test, y_pred_test)\n",
        "print(accuracy_test)"
      ]
    },
    {
      "cell_type": "code",
      "execution_count": null,
      "id": "62ae9072-cfe7-425d-81da-9e9239a90c24",
      "metadata": {
        "id": "62ae9072-cfe7-425d-81da-9e9239a90c24"
      },
      "outputs": [],
      "source": [
        "from sklearn.metrics import classification_report,confusion_matrix"
      ]
    },
    {
      "cell_type": "markdown",
      "id": "a95da1ea-cef3-4baa-b8eb-9dd46cea4954",
      "metadata": {
        "id": "a95da1ea-cef3-4baa-b8eb-9dd46cea4954"
      },
      "source": [
        "## confusion matrex"
      ]
    },
    {
      "cell_type": "code",
      "execution_count": null,
      "id": "ab122726-32fa-45a2-bc48-e590663c253e",
      "metadata": {
        "id": "ab122726-32fa-45a2-bc48-e590663c253e"
      },
      "outputs": [],
      "source": [
        "from sklearn.metrics import confusion_matrix\n",
        "cm = confusion_matrix(y_test, y_pred_test)\n",
        "f,ax = plt.subplots(figsize=(10, 10))\n",
        "sns.heatmap(cm, annot=True, linewidths=0.5,linecolor=\"red\", fmt= '.0f',ax=ax)\n",
        "plt.show()\n",
        "plt.savefig('ConfusionMatrix.png')"
      ]
    },
    {
      "cell_type": "code",
      "execution_count": null,
      "id": "ee533f32-c4ac-484a-8e7d-bc0f68896448",
      "metadata": {
        "id": "ee533f32-c4ac-484a-8e7d-bc0f68896448"
      },
      "outputs": [],
      "source": [
        "print(classification_report(y_test,y_pred_test))"
      ]
    },
    {
      "cell_type": "markdown",
      "id": "9f8b65b7-19ab-44af-83ff-76aa73fdd817",
      "metadata": {
        "id": "9f8b65b7-19ab-44af-83ff-76aa73fdd817"
      },
      "source": [
        "# Hyperparameter tuning"
      ]
    },
    {
      "cell_type": "markdown",
      "id": "6153dd42-1544-4bce-8c04-5762a519dd12",
      "metadata": {
        "id": "6153dd42-1544-4bce-8c04-5762a519dd12"
      },
      "source": [
        "## Choosing a K Value\n"
      ]
    },
    {
      "cell_type": "code",
      "execution_count": null,
      "id": "c00691a2-38cc-476a-afa2-544cdc139a91",
      "metadata": {
        "id": "c00691a2-38cc-476a-afa2-544cdc139a91"
      },
      "outputs": [],
      "source": [
        "error_rate = []\n",
        "\n",
        "# Will take some time\n",
        "for i in range(1,30):\n",
        "\n",
        "    knn = KNeighborsClassifier(n_neighbors=i)\n",
        "    knn.fit(X_train,y_train)\n",
        "    pred_i = knn.predict(X_test)\n",
        "    error_rate.append(np.mean(pred_i != y_test))"
      ]
    },
    {
      "cell_type": "code",
      "execution_count": null,
      "id": "120a07c7-2959-4639-922d-168f1b2ef9a0",
      "metadata": {
        "id": "120a07c7-2959-4639-922d-168f1b2ef9a0"
      },
      "outputs": [],
      "source": [
        "plt.figure(figsize=(10,6))\n",
        "plt.plot(range(1,30),error_rate,color='blue', linestyle='dashed', marker='o',\n",
        "         markerfacecolor='red', markersize=10)\n",
        "plt.title('Error Rate vs. K Value')\n",
        "plt.xlabel('K')\n",
        "plt.ylabel('Error Rate')"
      ]
    },
    {
      "cell_type": "code",
      "execution_count": null,
      "id": "74b698f1-35bb-404d-b34b-7891ebd8e5cd",
      "metadata": {
        "id": "74b698f1-35bb-404d-b34b-7891ebd8e5cd"
      },
      "outputs": [],
      "source": [
        "# FIRST A QUICK COMPARISON TO OUR ORIGINAL K=1\n",
        "knn = KNeighborsClassifier(n_neighbors=1)\n",
        "\n",
        "knn.fit(X_train,y_train)\n",
        "pred = knn.predict(X_test)\n",
        "\n",
        "print('WITH K=1')\n",
        "print('\\n')\n",
        "print(confusion_matrix(y_test,pred))\n",
        "print('\\n')\n",
        "print(classification_report(y_test,pred))"
      ]
    },
    {
      "cell_type": "code",
      "execution_count": null,
      "id": "5a436e04-29ce-41e9-9a9f-e429b1f7c2f1",
      "metadata": {
        "id": "5a436e04-29ce-41e9-9a9f-e429b1f7c2f1"
      },
      "outputs": [],
      "source": [
        "# NOW WITH K=23\n",
        "knn = KNeighborsClassifier(n_neighbors=30)\n",
        "\n",
        "knn.fit(X_train,y_train)\n",
        "pred = knn.predict(X_test)\n",
        "\n",
        "print('WITH K=23')\n",
        "print('\\n')\n",
        "print(confusion_matrix(y_test,pred))\n",
        "print('\\n')\n",
        "print(classification_report(y_test,pred))"
      ]
    },
    {
      "cell_type": "code",
      "execution_count": null,
      "id": "51ae0314-93c3-44f0-9d23-c2ed730c71eb",
      "metadata": {
        "id": "51ae0314-93c3-44f0-9d23-c2ed730c71eb"
      },
      "outputs": [],
      "source": []
    },
    {
      "cell_type": "markdown",
      "id": "0386d149-3a89-4d2e-9fb4-df2e6fccc84d",
      "metadata": {
        "id": "0386d149-3a89-4d2e-9fb4-df2e6fccc84d"
      },
      "source": [
        "## Tuning n_neighbors"
      ]
    },
    {
      "cell_type": "code",
      "execution_count": null,
      "id": "1bbeecc4-0321-49c8-b1cd-87c646974af3",
      "metadata": {
        "id": "1bbeecc4-0321-49c8-b1cd-87c646974af3"
      },
      "outputs": [],
      "source": [
        "n_neighbours_values = list(range(1, 31))\n",
        "accuracy_train_values = []\n",
        "accuracy_val_values = []\n",
        "\n",
        "for n_neighbours in n_neighbours_values:\n",
        "    model = KNeighborsClassifier(n_neighbors = n_neighbours)\n",
        "    model.fit(X_train, y_train)\n",
        "    y_pred_train = model.predict(X_train)\n",
        "    y_pred_val = model.predict(X_val)\n",
        "    accuracy_train = accuracy_score(y_train, y_pred_train)\n",
        "    accuracy_val = accuracy_score(y_val, y_pred_val)\n",
        "    accuracy_train_values.append(accuracy_train)\n",
        "    accuracy_val_values.append(accuracy_val)\n",
        "\n",
        "results = pd.DataFrame({\n",
        "    'n_neighbours': n_neighbours_values,\n",
        "    'accuracy_train': accuracy_train_values,\n",
        "    'accuracy_val': accuracy_val_values\n",
        "})"
      ]
    },
    {
      "cell_type": "code",
      "execution_count": null,
      "id": "0c739ae3-bd64-412a-a147-1059b7db2093",
      "metadata": {
        "id": "0c739ae3-bd64-412a-a147-1059b7db2093"
      },
      "outputs": [],
      "source": [
        "results"
      ]
    },
    {
      "cell_type": "code",
      "execution_count": null,
      "id": "383d6831-6a50-4b21-9856-6e494ca968e5",
      "metadata": {
        "id": "383d6831-6a50-4b21-9856-6e494ca968e5"
      },
      "outputs": [],
      "source": [
        "import matplotlib.pyplot as plt\n",
        "%matplotlib inline\n",
        "\n",
        "results.plot(x='n_neighbours', y=['accuracy_train', 'accuracy_val'], figsize=(5, 5))\n",
        "plt.grid(axis='both')"
      ]
    },
    {
      "cell_type": "markdown",
      "id": "9b0a9e0e-9e92-40ee-b30d-b1ca5fd344dd",
      "metadata": {
        "id": "9b0a9e0e-9e92-40ee-b30d-b1ca5fd344dd"
      },
      "source": [
        "According to the previous plot, we select `n_neighbours = 23` as the best value for `n_neighbours`"
      ]
    },
    {
      "cell_type": "code",
      "execution_count": null,
      "id": "fa86bb0f-6b43-43e5-be48-1a2e3b9763df",
      "metadata": {
        "id": "fa86bb0f-6b43-43e5-be48-1a2e3b9763df"
      },
      "outputs": [],
      "source": [
        "weights_values = ['uniform', 'distance']\n",
        "accuracy_train_values = []\n",
        "accuracy_val_values = []\n",
        "\n",
        "for weights in weights_values:\n",
        "    model = KNeighborsClassifier(n_neighbors=10, weights=weights)\n",
        "    model.fit(X_train, y_train)\n",
        "    y_pred_train = model.predict(X_train)\n",
        "    y_pred_val = model.predict(X_val)\n",
        "    accuracy_train = accuracy_score(y_train, y_pred_train)\n",
        "    accuracy_val = accuracy_score(y_val, y_pred_val)\n",
        "    accuracy_train_values.append(accuracy_train)\n",
        "    accuracy_val_values.append(accuracy_val)\n",
        "\n",
        "results = pd.DataFrame({\n",
        "    'weights': weights_values,\n",
        "    'accuracy_train': accuracy_train_values,\n",
        "    'accuracy_val': accuracy_val_values\n",
        "})"
      ]
    },
    {
      "cell_type": "code",
      "execution_count": null,
      "id": "3b6ab52a-e574-43fb-9f86-9ac73d9e0bd8",
      "metadata": {
        "id": "3b6ab52a-e574-43fb-9f86-9ac73d9e0bd8"
      },
      "outputs": [],
      "source": [
        "results.plot.bar(x='weights', y=['accuracy_train', 'accuracy_val'])\n",
        "plt.grid(axis='y')"
      ]
    },
    {
      "cell_type": "markdown",
      "id": "20fd247e-9dbc-4ea0-8859-f97f9b55b242",
      "metadata": {
        "id": "20fd247e-9dbc-4ea0-8859-f97f9b55b242"
      },
      "source": [
        "## 2-NAIVE BAISE CLASSIFIER"
      ]
    },
    {
      "cell_type": "code",
      "execution_count": null,
      "id": "c912af42-542c-4ae8-b86e-b6bb9eba5ace",
      "metadata": {
        "id": "c912af42-542c-4ae8-b86e-b6bb9eba5ace"
      },
      "outputs": [],
      "source": [
        "X = data.iloc[:,:-1 ]\n",
        "y = data.iloc[:, -1]\n",
        "print(X)\n",
        "print(y)\n",
        "X.head()"
      ]
    },
    {
      "cell_type": "markdown",
      "id": "6da5a16d-3c20-48c3-a3d5-d172d5855b39",
      "metadata": {
        "id": "6da5a16d-3c20-48c3-a3d5-d172d5855b39"
      },
      "source": [
        "# Splitting the dataset into the Training set and Test set"
      ]
    },
    {
      "cell_type": "code",
      "execution_count": null,
      "id": "f808506a-c5fb-4c2e-b7fb-da236ea9fec7",
      "metadata": {
        "id": "f808506a-c5fb-4c2e-b7fb-da236ea9fec7"
      },
      "outputs": [],
      "source": [
        "from sklearn.model_selection import train_test_split\n",
        "X_train, X_test, y_train, y_test = train_test_split(X, y, test_size = 0.25, random_state = 0)\n",
        "X_train.shape\n",
        "X_test.shape"
      ]
    },
    {
      "cell_type": "markdown",
      "id": "e9691329-2777-4ae8-8e01-1d2c611c6bf6",
      "metadata": {
        "id": "e9691329-2777-4ae8-8e01-1d2c611c6bf6"
      },
      "source": [
        "# Feature Scaling"
      ]
    },
    {
      "cell_type": "code",
      "execution_count": null,
      "id": "0ff35ee0-9378-4ae7-8fc8-64ea74b43fcb",
      "metadata": {
        "id": "0ff35ee0-9378-4ae7-8fc8-64ea74b43fcb"
      },
      "outputs": [],
      "source": [
        "from sklearn.preprocessing import StandardScaler\n",
        "sc = StandardScaler()\n",
        "X_train = sc.fit_transform(X_train)\n",
        "X_test = sc.fit_transform(X_test)\n",
        "\n",
        "print (X_train)"
      ]
    },
    {
      "cell_type": "markdown",
      "id": "8518995c-fce5-45ca-b7bb-4b0c1e01ae5c",
      "metadata": {
        "id": "8518995c-fce5-45ca-b7bb-4b0c1e01ae5c"
      },
      "source": [
        "# Training the Naive Bayes model on the Training set"
      ]
    },
    {
      "cell_type": "code",
      "execution_count": null,
      "id": "62e7fab9-428f-4c68-958b-13b576e9bd80",
      "metadata": {
        "id": "62e7fab9-428f-4c68-958b-13b576e9bd80"
      },
      "outputs": [],
      "source": [
        "\n",
        "from sklearn.naive_bayes import GaussianNB\n",
        "classifier = GaussianNB()\n",
        "classifier.fit(X_train, y_train)\n"
      ]
    },
    {
      "cell_type": "markdown",
      "id": "5eb42f67-03c0-4a6e-bf35-8954384d2cd7",
      "metadata": {
        "id": "5eb42f67-03c0-4a6e-bf35-8954384d2cd7"
      },
      "source": [
        "# Predicting the Test set results"
      ]
    },
    {
      "cell_type": "code",
      "execution_count": null,
      "id": "8759fdd8-efad-48c9-9300-28df43089cc8",
      "metadata": {
        "id": "8759fdd8-efad-48c9-9300-28df43089cc8"
      },
      "outputs": [],
      "source": [
        "y_pred = classifier.predict(X_test)"
      ]
    },
    {
      "cell_type": "markdown",
      "id": "5ecef7c5-f7bf-4a83-acd0-ef3f94426258",
      "metadata": {
        "id": "5ecef7c5-f7bf-4a83-acd0-ef3f94426258"
      },
      "source": [
        "# Making the Confusion Matrix"
      ]
    },
    {
      "cell_type": "code",
      "execution_count": null,
      "id": "5048fabb-b67e-4296-a23c-d59b94d2c452",
      "metadata": {
        "id": "5048fabb-b67e-4296-a23c-d59b94d2c452"
      },
      "outputs": [],
      "source": [
        "from sklearn.metrics import confusion_matrix\n",
        "cm = confusion_matrix(y_test, y_pred)\n",
        "print(cm)"
      ]
    },
    {
      "cell_type": "code",
      "execution_count": null,
      "id": "6b4e4b9a-52a7-47f5-8123-2ae9f72ecde2",
      "metadata": {
        "id": "6b4e4b9a-52a7-47f5-8123-2ae9f72ecde2"
      },
      "outputs": [],
      "source": [
        "print('Accuracy Score:')\n",
        "print(metrics.accuracy_score(y_test,y_pred))"
      ]
    },
    {
      "cell_type": "code",
      "execution_count": null,
      "id": "a642eb3d-55af-40fe-8406-59b4918950f2",
      "metadata": {
        "id": "a642eb3d-55af-40fe-8406-59b4918950f2"
      },
      "outputs": [],
      "source": [
        "from sklearn.metrics import classification_report\n",
        "print (classification_report(y_test,y_pred ))"
      ]
    },
    {
      "cell_type": "code",
      "execution_count": null,
      "id": "f2f02282-4865-4bae-a087-1d9e92825a36",
      "metadata": {
        "id": "f2f02282-4865-4bae-a087-1d9e92825a36"
      },
      "outputs": [],
      "source": [
        "from sklearn.metrics import confusion_matrix\n",
        "cm = confusion_matrix(y_test, y_pred)\n",
        "f,ax = plt.subplots(figsize=(10, 10))\n",
        "sns.heatmap(cm, annot=True, linewidths=0.5,linecolor=\"red\", fmt= '.0f',ax=ax)\n",
        "plt.show()\n",
        "plt.savefig('ConfusionMatrix.png')"
      ]
    },
    {
      "cell_type": "markdown",
      "id": "8930ae61-4fa4-482f-ba54-36ed41e8e19e",
      "metadata": {
        "id": "8930ae61-4fa4-482f-ba54-36ed41e8e19e"
      },
      "source": [
        "## ....................................................................................."
      ]
    },
    {
      "cell_type": "markdown",
      "id": "8e620f1a-5e8c-4d17-ba52-b8cbf29beeb4",
      "metadata": {
        "id": "8e620f1a-5e8c-4d17-ba52-b8cbf29beeb4"
      },
      "source": [
        "## LR Classifier"
      ]
    },
    {
      "cell_type": "markdown",
      "id": "b46b214f-a246-42ae-9396-4509436db558",
      "metadata": {
        "id": "b46b214f-a246-42ae-9396-4509436db558"
      },
      "source": [
        "# Splitting dataset into input and output"
      ]
    },
    {
      "cell_type": "code",
      "execution_count": null,
      "id": "81f6a3f8-8115-4a2d-b37a-6cc211e94a77",
      "metadata": {
        "id": "81f6a3f8-8115-4a2d-b37a-6cc211e94a77"
      },
      "outputs": [],
      "source": [
        "data_input = data.drop(columns=['target'])\n",
        "data_output = data['target']"
      ]
    },
    {
      "cell_type": "markdown",
      "id": "5ee1b6ba-4434-488b-937d-d2c197bf9f6a",
      "metadata": {
        "id": "5ee1b6ba-4434-488b-937d-d2c197bf9f6a"
      },
      "source": [
        "# Splitting dataset into train, validation, and test"
      ]
    },
    {
      "cell_type": "code",
      "execution_count": null,
      "id": "53dc22e4-aba6-447c-bf96-c6516110d1f5",
      "metadata": {
        "id": "53dc22e4-aba6-447c-bf96-c6516110d1f5"
      },
      "outputs": [],
      "source": [
        "from sklearn.model_selection import train_test_split\n",
        "\n",
        "X, X_test, y, y_test = train_test_split(data_input, data_output, test_size=0.30, random_state=0)\n",
        "\n",
        "X_train, X_val, y_train, y_val = train_test_split(X, y, test_size=0.30, random_state=0)\n",
        "\n",
        "print('X_train:', X_train.shape)\n",
        "print('y_train:', y_train.shape)\n",
        "print('------------------------')\n",
        "print('X_val:', X_val.shape)\n",
        "print('y_val:', y_val.shape)\n",
        "print('------------------------')\n",
        "print('X_test:', X_test.shape)\n",
        "print('y_test:', y_test.shape)"
      ]
    },
    {
      "cell_type": "markdown",
      "id": "213e3e34-28a6-4851-93e3-260db9ce6086",
      "metadata": {
        "id": "213e3e34-28a6-4851-93e3-260db9ce6086"
      },
      "source": [
        "# Helper function: Evaluate model"
      ]
    },
    {
      "cell_type": "code",
      "execution_count": null,
      "id": "e77c6037-541f-452d-857e-6bcbaf87f1df",
      "metadata": {
        "id": "e77c6037-541f-452d-857e-6bcbaf87f1df"
      },
      "outputs": [],
      "source": [
        "from sklearn.metrics import accuracy_score\n",
        "\n",
        "def eval_model(model, X_train, y_train, X_val, y_val):\n",
        "    model.fit(X_train, y_train)\n",
        "    y_pred_train = model.predict(X_train)\n",
        "    y_pred_val = model.predict(X_val)\n",
        "    acc_train = accuracy_score(y_train, y_pred_train)\n",
        "    acc_val = accuracy_score(y_val, y_pred_val)\n",
        "    return acc_train, acc_val"
      ]
    },
    {
      "cell_type": "markdown",
      "id": "e5f85b21-2050-4e8f-b6f6-b7de8fb49fb7",
      "metadata": {
        "id": "e5f85b21-2050-4e8f-b6f6-b7de8fb49fb7"
      },
      "source": [
        "# Logistic Regression\n",
        "- Logistic regression is a linear classifier\n",
        "- Logistic regression requires feature scaling (StandardScaler) in order to converge"
      ]
    },
    {
      "cell_type": "code",
      "execution_count": null,
      "id": "eb91636b-c051-4460-b5eb-109e05b3cc34",
      "metadata": {
        "id": "eb91636b-c051-4460-b5eb-109e05b3cc34"
      },
      "outputs": [],
      "source": [
        "from sklearn.linear_model import LogisticRegression\n",
        "from sklearn.pipeline import Pipeline\n",
        "from sklearn.preprocessing import StandardScaler\n",
        "\n",
        "model = Pipeline([\n",
        "    ('feature_scaling', StandardScaler()),\n",
        "    ('logistic_regression', LogisticRegression(random_state=0))\n",
        "])\n",
        "eval_model(model, X_train, y_train, X_val, y_val)"
      ]
    },
    {
      "cell_type": "markdown",
      "id": "6155cb32-5cf0-4feb-8fde-931849a1db3e",
      "metadata": {
        "id": "6155cb32-5cf0-4feb-8fde-931849a1db3e"
      },
      "source": [
        "# Hyperparameter tuning: C\n",
        "The C hyperparameter is a regularization hyperparameter. It usually (but not always) has the following effect:\n",
        "1. Smaller values for C:\n",
        "    - High regularization\n",
        "    - Reduces overfitting\n",
        "    - But too small values can make accuracy very low\n",
        "2. Larger values for C:\n",
        "    - Low regularization\n",
        "    - High training accuracy\n",
        "    - Can lead to overfitting"
      ]
    },
    {
      "cell_type": "code",
      "execution_count": null,
      "id": "edab39c6-d79a-4d75-a661-421098928a2c",
      "metadata": {
        "id": "edab39c6-d79a-4d75-a661-421098928a2c"
      },
      "outputs": [],
      "source": [
        "C_values = [0.0001, 0.001, 0.01, 0.1, 1, 10, 100, 1000, 10000]\n",
        "acc_train_values = []\n",
        "acc_val_values = []\n",
        "\n",
        "for C in C_values:\n",
        "    model = Pipeline([\n",
        "        ('feature_scaling', StandardScaler()),\n",
        "        ('logistic_regression', LogisticRegression(C=C, random_state=0))\n",
        "    ])\n",
        "    acc_train, acc_val = eval_model(model, X_train, y_train, X_val, y_val)\n",
        "    acc_train_values.append(acc_train)\n",
        "    acc_val_values.append(acc_val)\n",
        "\n",
        "results = pd.DataFrame({\n",
        "    'C': C_values,\n",
        "    'acc_train': acc_train_values,\n",
        "    'acc_val': acc_val_values\n",
        "})\n",
        "\n",
        "results"
      ]
    },
    {
      "cell_type": "code",
      "execution_count": null,
      "id": "7cec84c2-e530-4c9c-96d7-5993260ebcd5",
      "metadata": {
        "id": "7cec84c2-e530-4c9c-96d7-5993260ebcd5"
      },
      "outputs": [],
      "source": [
        "import numpy as np\n",
        "import matplotlib.pyplot as plt\n",
        "%matplotlib inline\n",
        "\n",
        "results.plot.bar(x='C', y=['acc_train', 'acc_val'], figsize=(12, 8))\n",
        "plt.yticks(np.arange(0.0, 1.1, 0.1))\n",
        "plt.grid(axis='y')\n",
        "plt.show()"
      ]
    },
    {
      "cell_type": "markdown",
      "id": "2f9e2d3a-487a-4940-897c-971a2012bf75",
      "metadata": {
        "id": "2f9e2d3a-487a-4940-897c-971a2012bf75"
      },
      "source": [
        "# Testing best model"
      ]
    },
    {
      "cell_type": "code",
      "execution_count": null,
      "id": "482f5145-a81c-4595-b54e-6d58cd2dcdf2",
      "metadata": {
        "id": "482f5145-a81c-4595-b54e-6d58cd2dcdf2"
      },
      "outputs": [],
      "source": [
        "model_best = Pipeline([\n",
        "    ('feature_scaling', StandardScaler()),\n",
        "    ('logistic_regression', LogisticRegression(C=0.0001, random_state=0))\n",
        "])\n",
        "model_best.fit(X_train, y_train)\n",
        "y_pred_test = model_best.predict(X_test)\n",
        "print(accuracy_score(y_test, y_pred_test))"
      ]
    },
    {
      "cell_type": "code",
      "execution_count": null,
      "id": "f4e25c87-0f07-4c06-841c-0bfdf0d25361",
      "metadata": {
        "id": "f4e25c87-0f07-4c06-841c-0bfdf0d25361"
      },
      "outputs": [],
      "source": [
        "from sklearn.metrics import confusion_matrix\n",
        "\n",
        "confusion_matrix(y_test, y_pred_test)"
      ]
    },
    {
      "cell_type": "code",
      "execution_count": null,
      "id": "017dff99-172e-4b65-b61c-87b3eff2cb02",
      "metadata": {
        "id": "017dff99-172e-4b65-b61c-87b3eff2cb02"
      },
      "outputs": [],
      "source": [
        "from sklearn.metrics import classification_report\n",
        "print (classification_report(y_test,y_pred_test ))"
      ]
    },
    {
      "cell_type": "markdown",
      "id": "478409b2-94a3-4238-aa8c-a217e108da8d",
      "metadata": {
        "id": "478409b2-94a3-4238-aa8c-a217e108da8d"
      },
      "source": [
        "## ......................................................................................................."
      ]
    },
    {
      "cell_type": "markdown",
      "id": "5bcbc50e-b932-48c2-9db3-500ae0db3a37",
      "metadata": {
        "id": "5bcbc50e-b932-48c2-9db3-500ae0db3a37"
      },
      "source": [
        "## Random forest Ensamble Learning"
      ]
    },
    {
      "cell_type": "markdown",
      "id": "bcb33304-fabd-4300-8042-836e8bf1700a",
      "metadata": {
        "id": "bcb33304-fabd-4300-8042-836e8bf1700a"
      },
      "source": [
        "### `Feature Engineering`"
      ]
    },
    {
      "cell_type": "code",
      "execution_count": null,
      "id": "37ca84a9-8d48-4eba-ba3a-45e65c5103a6",
      "metadata": {
        "id": "37ca84a9-8d48-4eba-ba3a-45e65c5103a6"
      },
      "outputs": [],
      "source": [
        "x = data.iloc[:, :-1]\n",
        "y = data.iloc[:, -1]"
      ]
    },
    {
      "cell_type": "code",
      "execution_count": null,
      "id": "d7416dc6-e5f4-4ac4-85bc-a2a0ea6b8e0b",
      "metadata": {
        "id": "d7416dc6-e5f4-4ac4-85bc-a2a0ea6b8e0b"
      },
      "outputs": [],
      "source": [
        "print(x.shape)\n",
        "print(y.shape)"
      ]
    },
    {
      "cell_type": "markdown",
      "id": "6e02233b-74c5-446a-acc0-c3c99d0a9a46",
      "metadata": {
        "id": "6e02233b-74c5-446a-acc0-c3c99d0a9a46"
      },
      "source": [
        "# Splitting dataset into train and test"
      ]
    },
    {
      "cell_type": "code",
      "execution_count": null,
      "id": "7cac8a0b-5d7d-420b-b887-c907cfb8d132",
      "metadata": {
        "id": "7cac8a0b-5d7d-420b-b887-c907cfb8d132"
      },
      "outputs": [],
      "source": [
        "from sklearn.model_selection import train_test_split\n",
        "x_train ,x_test,y_train,y_test = train_test_split(x,y,random_state = 99)"
      ]
    },
    {
      "cell_type": "code",
      "execution_count": null,
      "id": "613a16b7-a72b-414e-a122-2f5b6085302f",
      "metadata": {
        "id": "613a16b7-a72b-414e-a122-2f5b6085302f"
      },
      "outputs": [],
      "source": [
        "from sklearn.ensemble import RandomForestClassifier\n",
        "clf = RandomForestClassifier(criterion = \"gini\"\n",
        "                             ,max_depth = 8\n",
        "                             ,min_samples_split = 10\n",
        "                             ,random_state = 5)"
      ]
    },
    {
      "cell_type": "markdown",
      "id": "bb67f672-b1e0-4587-bd5b-4029a3b643b1",
      "metadata": {
        "id": "bb67f672-b1e0-4587-bd5b-4029a3b643b1"
      },
      "source": [
        "# Training the RF  model on the Training set"
      ]
    },
    {
      "cell_type": "code",
      "execution_count": null,
      "id": "b1aad509-4c26-4c0b-8550-5295c490bada",
      "metadata": {
        "id": "b1aad509-4c26-4c0b-8550-5295c490bada"
      },
      "outputs": [],
      "source": [
        "clf.fit(x_train,y_train)"
      ]
    },
    {
      "cell_type": "code",
      "execution_count": null,
      "id": "c9080428-09d8-46cc-92b2-d6582a992a51",
      "metadata": {
        "id": "c9080428-09d8-46cc-92b2-d6582a992a51"
      },
      "outputs": [],
      "source": [
        "clf.feature_importances_"
      ]
    },
    {
      "cell_type": "code",
      "execution_count": null,
      "id": "f875c9fb-ff25-4b45-b5ae-e2672f24dfb8",
      "metadata": {
        "id": "f875c9fb-ff25-4b45-b5ae-e2672f24dfb8"
      },
      "outputs": [],
      "source": [
        "data.columns"
      ]
    },
    {
      "cell_type": "code",
      "execution_count": null,
      "id": "b5ef5301-b9f4-4483-ba9c-72c2ef4cebc0",
      "metadata": {
        "id": "b5ef5301-b9f4-4483-ba9c-72c2ef4cebc0"
      },
      "outputs": [],
      "source": [
        "y_pred = clf.predict(x_test)\n",
        "y_pred"
      ]
    },
    {
      "cell_type": "code",
      "execution_count": null,
      "id": "a1b655d6-de3f-4fa8-b4d4-9eef94919335",
      "metadata": {
        "id": "a1b655d6-de3f-4fa8-b4d4-9eef94919335"
      },
      "outputs": [],
      "source": [
        "from sklearn.metrics import confusion_matrix\n",
        "confusion_matrix(y_test,y_pred)"
      ]
    },
    {
      "cell_type": "code",
      "execution_count": null,
      "id": "5073ff65-4230-422b-908c-3c7f57be0165",
      "metadata": {
        "id": "5073ff65-4230-422b-908c-3c7f57be0165"
      },
      "outputs": [],
      "source": [
        "from sklearn.metrics import accuracy_score\n",
        "accuracy_score(y_test,y_pred)"
      ]
    },
    {
      "cell_type": "code",
      "execution_count": null,
      "id": "769ba525-8117-4cd1-8812-0fe2198ccdf7",
      "metadata": {
        "id": "769ba525-8117-4cd1-8812-0fe2198ccdf7"
      },
      "outputs": [],
      "source": [
        "from sklearn.metrics import classification_report\n",
        "print (classification_report(y_test,y_pred ))"
      ]
    },
    {
      "cell_type": "markdown",
      "id": "0306c071-0654-48ca-8846-07e9988168df",
      "metadata": {
        "id": "0306c071-0654-48ca-8846-07e9988168df"
      },
      "source": [
        "## ..........................................................................................."
      ]
    },
    {
      "cell_type": "markdown",
      "id": "bcd4851b-9cc8-4ca0-9bc0-593096cc1d10",
      "metadata": {
        "id": "bcd4851b-9cc8-4ca0-9bc0-593096cc1d10"
      },
      "source": [
        "## SVM Classifier"
      ]
    },
    {
      "cell_type": "code",
      "execution_count": null,
      "id": "cdb6236e-dc9b-4a36-a5cd-bdf3ae42e190",
      "metadata": {
        "id": "cdb6236e-dc9b-4a36-a5cd-bdf3ae42e190"
      },
      "outputs": [],
      "source": []
    }
  ],
  "metadata": {
    "kernelspec": {
      "display_name": "Python 3 (ipykernel)",
      "language": "python",
      "name": "python3"
    },
    "language_info": {
      "codemirror_mode": {
        "name": "ipython",
        "version": 3
      },
      "file_extension": ".py",
      "mimetype": "text/x-python",
      "name": "python",
      "nbconvert_exporter": "python",
      "pygments_lexer": "ipython3",
      "version": "3.9.12"
    },
    "colab": {
      "provenance": []
    }
  },
  "nbformat": 4,
  "nbformat_minor": 5
}